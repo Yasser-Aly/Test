{
 "cells": [
  {
   "cell_type": "code",
   "execution_count": null,
   "metadata": {},
   "outputs": [],
   "source": []
  },
  {
   "cell_type": "code",
   "execution_count": 3,
   "metadata": {},
   "outputs": [
    {
     "name": "stdout",
     "output_type": "stream",
     "text": [
      "Enter your choice (from 1 to 5 ) \n",
      " 1- Add New employee \n",
      " 2- Print all employee \n",
      " 3- Delete by age range \n",
      " 4- Update salary by name \n",
      " 5- End the program\n"
     ]
    }
   ],
   "source": [
    "print ( \"Enter your choice (from 1 to 5 ) \\n 1- Add New employee \\n 2- Print all employee \\n 3- Delete by age range \\n 4- Update salary by name \\n 5- End the program\")\n",
    "\n",
    "Enter_Your_Choice = int (input ('Enter your choice'))\n",
    "if Enter_Your_Choice in range (6) :\n",
    "    pass\n",
    "\n",
    "else :\n",
    "    print ('Invalid range ..Try again')\n",
    "\n",
    "All_Employees = {}\n",
    "if Enter_Your_Choice ==1 :\n",
    "    pass\n",
    "Employee = {'name': input (\"input your name : \").strip, \"age\" :  int (input ('input your age')), 'Salary': int (input ('input your salary :'))}\n",
    "    New_Employee = input ( \"employee name : \").strip\n",
    "    Age = int (input (\"Age : \"))\n",
    "    Salary = int (input (\"Salary : \"))\n",
    "    Employee.append(New_Employee)\n",
    "    Employee.append(Age)\n",
    "    Employee.append(Salary)\n",
    "All_Employees.append(Employee)\n",
    "if Enter_Your_Choice ==2 :\n",
    "    print (All_Employees)\n",
    "if Enter_Your_Choice ==3 :\n",
    "    print (input (\"age range : \"))\n",
    "if Enter_Your_Choice ==4 :\n",
    "\n",
    "if Enter_Your_Choice ==5 :\n",
    "    break\n",
    "\n",
    "\n",
    "\n",
    "\n"
   ]
  }
 ],
 "metadata": {
  "kernelspec": {
   "display_name": "base",
   "language": "python",
   "name": "python3"
  },
  "language_info": {
   "codemirror_mode": {
    "name": "ipython",
    "version": 3
   },
   "file_extension": ".py",
   "mimetype": "text/x-python",
   "name": "python",
   "nbconvert_exporter": "python",
   "pygments_lexer": "ipython3",
   "version": "3.11.7"
  }
 },
 "nbformat": 4,
 "nbformat_minor": 2
}
